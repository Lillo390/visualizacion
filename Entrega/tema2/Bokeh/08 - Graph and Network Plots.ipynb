{
 "cells": [
  {
   "cell_type": "markdown",
   "metadata": {},
   "source": [
    "<table style=\"float:left; border:none\">\n",
    "   <tr style=\"border:none\">\n",
    "       <td style=\"border:none\">\n",
    "           <a href=\"https://bokeh.org/\">     \n",
    "           <img \n",
    "               src=\"assets/bokeh-transparent.png\" \n",
    "               style=\"width:50px\"\n",
    "           >\n",
    "           </a>    \n",
    "       </td>\n",
    "       <td style=\"border:none\">\n",
    "           <h1>Bokeh Tutorial</h1>\n",
    "       </td>\n",
    "   </tr>\n",
    "</table>\n",
    "\n",
    "<div style=\"float:right;\"><h2>08. Graph and Network Plots</h2></div>"
   ]
  },
  {
   "cell_type": "markdown",
   "metadata": {},
   "source": [
    "This chapter will cover how to plot network node/link graphs in Bokeh using NetworkX. For information on creating graph renderers from a low level, see [Visualizing Network Graphs](https://docs.bokeh.org/en/latest/docs/user_guide/graph.html)\n"
   ]
  },
  {
   "cell_type": "code",
   "execution_count": 3,
   "metadata": {},
   "outputs": [
    {
     "data": {
      "text/html": [
       "<div class=\"bk-root\">\n",
       "        <a href=\"https://bokeh.org\" target=\"_blank\" class=\"bk-logo bk-logo-small bk-logo-notebook\"></a>\n",
       "        <span id=\"1052\">Loading BokehJS ...</span>\n",
       "    </div>\n"
      ]
     },
     "metadata": {},
     "output_type": "display_data"
    },
    {
     "data": {
      "application/javascript": "(function(root) {\n  function now() {\n    return new Date();\n  }\n\n  const force = true;\n\n  if (typeof root._bokeh_onload_callbacks === \"undefined\" || force === true) {\n    root._bokeh_onload_callbacks = [];\n    root._bokeh_is_loading = undefined;\n  }\n\nconst JS_MIME_TYPE = 'application/javascript';\n  const HTML_MIME_TYPE = 'text/html';\n  const EXEC_MIME_TYPE = 'application/vnd.bokehjs_exec.v0+json';\n  const CLASS_NAME = 'output_bokeh rendered_html';\n\n  /**\n   * Render data to the DOM node\n   */\n  function render(props, node) {\n    const script = document.createElement(\"script\");\n    node.appendChild(script);\n  }\n\n  /**\n   * Handle when an output is cleared or removed\n   */\n  function handleClearOutput(event, handle) {\n    const cell = handle.cell;\n\n    const id = cell.output_area._bokeh_element_id;\n    const server_id = cell.output_area._bokeh_server_id;\n    // Clean up Bokeh references\n    if (id != null && id in Bokeh.index) {\n      Bokeh.index[id].model.document.clear();\n      delete Bokeh.index[id];\n    }\n\n    if (server_id !== undefined) {\n      // Clean up Bokeh references\n      const cmd_clean = \"from bokeh.io.state import curstate; print(curstate().uuid_to_server['\" + server_id + \"'].get_sessions()[0].document.roots[0]._id)\";\n      cell.notebook.kernel.execute(cmd_clean, {\n        iopub: {\n          output: function(msg) {\n            const id = msg.content.text.trim();\n            if (id in Bokeh.index) {\n              Bokeh.index[id].model.document.clear();\n              delete Bokeh.index[id];\n            }\n          }\n        }\n      });\n      // Destroy server and session\n      const cmd_destroy = \"import bokeh.io.notebook as ion; ion.destroy_server('\" + server_id + \"')\";\n      cell.notebook.kernel.execute(cmd_destroy);\n    }\n  }\n\n  /**\n   * Handle when a new output is added\n   */\n  function handleAddOutput(event, handle) {\n    const output_area = handle.output_area;\n    const output = handle.output;\n\n    // limit handleAddOutput to display_data with EXEC_MIME_TYPE content only\n    if ((output.output_type != \"display_data\") || (!Object.prototype.hasOwnProperty.call(output.data, EXEC_MIME_TYPE))) {\n      return\n    }\n\n    const toinsert = output_area.element.find(\".\" + CLASS_NAME.split(' ')[0]);\n\n    if (output.metadata[EXEC_MIME_TYPE][\"id\"] !== undefined) {\n      toinsert[toinsert.length - 1].firstChild.textContent = output.data[JS_MIME_TYPE];\n      // store reference to embed id on output_area\n      output_area._bokeh_element_id = output.metadata[EXEC_MIME_TYPE][\"id\"];\n    }\n    if (output.metadata[EXEC_MIME_TYPE][\"server_id\"] !== undefined) {\n      const bk_div = document.createElement(\"div\");\n      bk_div.innerHTML = output.data[HTML_MIME_TYPE];\n      const script_attrs = bk_div.children[0].attributes;\n      for (let i = 0; i < script_attrs.length; i++) {\n        toinsert[toinsert.length - 1].firstChild.setAttribute(script_attrs[i].name, script_attrs[i].value);\n        toinsert[toinsert.length - 1].firstChild.textContent = bk_div.children[0].textContent\n      }\n      // store reference to server id on output_area\n      output_area._bokeh_server_id = output.metadata[EXEC_MIME_TYPE][\"server_id\"];\n    }\n  }\n\n  function register_renderer(events, OutputArea) {\n\n    function append_mime(data, metadata, element) {\n      // create a DOM node to render to\n      const toinsert = this.create_output_subarea(\n        metadata,\n        CLASS_NAME,\n        EXEC_MIME_TYPE\n      );\n      this.keyboard_manager.register_events(toinsert);\n      // Render to node\n      const props = {data: data, metadata: metadata[EXEC_MIME_TYPE]};\n      render(props, toinsert[toinsert.length - 1]);\n      element.append(toinsert);\n      return toinsert\n    }\n\n    /* Handle when an output is cleared or removed */\n    events.on('clear_output.CodeCell', handleClearOutput);\n    events.on('delete.Cell', handleClearOutput);\n\n    /* Handle when a new output is added */\n    events.on('output_added.OutputArea', handleAddOutput);\n\n    /**\n     * Register the mime type and append_mime function with output_area\n     */\n    OutputArea.prototype.register_mime_type(EXEC_MIME_TYPE, append_mime, {\n      /* Is output safe? */\n      safe: true,\n      /* Index of renderer in `output_area.display_order` */\n      index: 0\n    });\n  }\n\n  // register the mime type if in Jupyter Notebook environment and previously unregistered\n  if (root.Jupyter !== undefined) {\n    const events = require('base/js/events');\n    const OutputArea = require('notebook/js/outputarea').OutputArea;\n\n    if (OutputArea.prototype.mime_types().indexOf(EXEC_MIME_TYPE) == -1) {\n      register_renderer(events, OutputArea);\n    }\n  }\n  if (typeof (root._bokeh_timeout) === \"undefined\" || force === true) {\n    root._bokeh_timeout = Date.now() + 5000;\n    root._bokeh_failed_load = false;\n  }\n\n  const NB_LOAD_WARNING = {'data': {'text/html':\n     \"<div style='background-color: #fdd'>\\n\"+\n     \"<p>\\n\"+\n     \"BokehJS does not appear to have successfully loaded. If loading BokehJS from CDN, this \\n\"+\n     \"may be due to a slow or bad network connection. Possible fixes:\\n\"+\n     \"</p>\\n\"+\n     \"<ul>\\n\"+\n     \"<li>re-rerun `output_notebook()` to attempt to load from CDN again, or</li>\\n\"+\n     \"<li>use INLINE resources instead, as so:</li>\\n\"+\n     \"</ul>\\n\"+\n     \"<code>\\n\"+\n     \"from bokeh.resources import INLINE\\n\"+\n     \"output_notebook(resources=INLINE)\\n\"+\n     \"</code>\\n\"+\n     \"</div>\"}};\n\n  function display_loaded() {\n    const el = document.getElementById(\"1052\");\n    if (el != null) {\n      el.textContent = \"BokehJS is loading...\";\n    }\n    if (root.Bokeh !== undefined) {\n      if (el != null) {\n        el.textContent = \"BokehJS \" + root.Bokeh.version + \" successfully loaded.\";\n      }\n    } else if (Date.now() < root._bokeh_timeout) {\n      setTimeout(display_loaded, 100)\n    }\n  }\n\n  function run_callbacks() {\n    try {\n      root._bokeh_onload_callbacks.forEach(function(callback) {\n        if (callback != null)\n          callback();\n      });\n    } finally {\n      delete root._bokeh_onload_callbacks\n    }\n    console.debug(\"Bokeh: all callbacks have finished\");\n  }\n\n  function load_libs(css_urls, js_urls, callback) {\n    if (css_urls == null) css_urls = [];\n    if (js_urls == null) js_urls = [];\n\n    root._bokeh_onload_callbacks.push(callback);\n    if (root._bokeh_is_loading > 0) {\n      console.debug(\"Bokeh: BokehJS is being loaded, scheduling callback at\", now());\n      return null;\n    }\n    if (js_urls == null || js_urls.length === 0) {\n      run_callbacks();\n      return null;\n    }\n    console.debug(\"Bokeh: BokehJS not loaded, scheduling load and callback at\", now());\n    root._bokeh_is_loading = css_urls.length + js_urls.length;\n\n    function on_load() {\n      root._bokeh_is_loading--;\n      if (root._bokeh_is_loading === 0) {\n        console.debug(\"Bokeh: all BokehJS libraries/stylesheets loaded\");\n        run_callbacks()\n      }\n    }\n\n    function on_error(url) {\n      console.error(\"failed to load \" + url);\n    }\n\n    for (let i = 0; i < css_urls.length; i++) {\n      const url = css_urls[i];\n      const element = document.createElement(\"link\");\n      element.onload = on_load;\n      element.onerror = on_error.bind(null, url);\n      element.rel = \"stylesheet\";\n      element.type = \"text/css\";\n      element.href = url;\n      console.debug(\"Bokeh: injecting link tag for BokehJS stylesheet: \", url);\n      document.body.appendChild(element);\n    }\n\n    for (let i = 0; i < js_urls.length; i++) {\n      const url = js_urls[i];\n      const element = document.createElement('script');\n      element.onload = on_load;\n      element.onerror = on_error.bind(null, url);\n      element.async = false;\n      element.src = url;\n      console.debug(\"Bokeh: injecting script tag for BokehJS library: \", url);\n      document.head.appendChild(element);\n    }\n  };\n\n  function inject_raw_css(css) {\n    const element = document.createElement(\"style\");\n    element.appendChild(document.createTextNode(css));\n    document.body.appendChild(element);\n  }\n\n  const js_urls = [\"https://cdn.bokeh.org/bokeh/release/bokeh-2.4.3.min.js\", \"https://cdn.bokeh.org/bokeh/release/bokeh-gl-2.4.3.min.js\", \"https://cdn.bokeh.org/bokeh/release/bokeh-widgets-2.4.3.min.js\", \"https://cdn.bokeh.org/bokeh/release/bokeh-tables-2.4.3.min.js\", \"https://cdn.bokeh.org/bokeh/release/bokeh-mathjax-2.4.3.min.js\"];\n  const css_urls = [];\n\n  const inline_js = [    function(Bokeh) {\n      Bokeh.set_log_level(\"info\");\n    },\nfunction(Bokeh) {\n    }\n  ];\n\n  function run_inline_js() {\n    if (root.Bokeh !== undefined || force === true) {\n          for (let i = 0; i < inline_js.length; i++) {\n      inline_js[i].call(root, root.Bokeh);\n    }\nif (force === true) {\n        display_loaded();\n      }} else if (Date.now() < root._bokeh_timeout) {\n      setTimeout(run_inline_js, 100);\n    } else if (!root._bokeh_failed_load) {\n      console.log(\"Bokeh: BokehJS failed to load within specified timeout.\");\n      root._bokeh_failed_load = true;\n    } else if (force !== true) {\n      const cell = $(document.getElementById(\"1052\")).parents('.cell').data().cell;\n      cell.output_area.append_execute_result(NB_LOAD_WARNING)\n    }\n  }\n\n  if (root._bokeh_is_loading === 0) {\n    console.debug(\"Bokeh: BokehJS loaded, going straight to plotting\");\n    run_inline_js();\n  } else {\n    load_libs(css_urls, js_urls, function() {\n      console.debug(\"Bokeh: BokehJS plotting callback run at\", now());\n      run_inline_js();\n    });\n  }\n}(window));",
      "application/vnd.bokehjs_load.v0+json": ""
     },
     "metadata": {},
     "output_type": "display_data"
    }
   ],
   "source": [
    "from bokeh.io import show, output_notebook\n",
    "from bokeh.plotting import figure\n",
    "\n",
    "output_notebook()"
   ]
  },
  {
   "cell_type": "markdown",
   "metadata": {},
   "source": [
    "## Plotting from NetworkX\n",
    "\n",
    "The easiest way to plot network graphs with Bokeh is to use the `from_networkx` function. This function accepts any NetworkX graph and returns a Bokeh `GraphRenderer` that can be added to a plot. The `GraphRenderer` has `node_renderer` and `edge_renderer` properties that contain the Bokeh renderers that draw the nodes and edges, respectively. \n",
    "\n",
    "The example below shows a Bokeh plot of `nx.desargues_graph()`, setting some of the node and edge properties."
   ]
  },
  {
   "cell_type": "code",
   "execution_count": 4,
   "metadata": {},
   "outputs": [
    {
     "data": {
      "text/html": [
       "\n",
       "  <div class=\"bk-root\" id=\"7215afe4-b640-427e-a0a4-c3c67b446744\" data-root-id=\"1055\"></div>\n"
      ]
     },
     "metadata": {},
     "output_type": "display_data"
    },
    {
     "data": {
      "application/javascript": "(function(root) {\n  function embed_document(root) {\n  const docs_json = {\"93922704-c3c3-4d33-aeae-90f5b3196ec7\":{\"defs\":[],\"roots\":{\"references\":[{\"attributes\":{\"renderers\":[{\"id\":\"1058\"}],\"title\":{\"id\":\"1078\"},\"toolbar\":{\"id\":\"1079\"},\"x_range\":{\"id\":\"1053\"},\"x_scale\":{\"id\":\"1076\"},\"y_range\":{\"id\":\"1054\"},\"y_scale\":{\"id\":\"1077\"}},\"id\":\"1055\",\"type\":\"Plot\"},{\"attributes\":{\"end\":2,\"start\":-2},\"id\":\"1053\",\"type\":\"Range1d\"},{\"attributes\":{\"coordinates\":null,\"data_source\":{\"id\":\"1060\"},\"glyph\":{\"id\":\"1059\"},\"group\":null,\"hover_glyph\":null,\"view\":{\"id\":\"1062\"}},\"id\":\"1061\",\"type\":\"GlyphRenderer\"},{\"attributes\":{},\"id\":\"1077\",\"type\":\"LinearScale\"},{\"attributes\":{\"coordinates\":null,\"edge_renderer\":{\"id\":\"1065\"},\"group\":null,\"inspection_policy\":{\"id\":\"1089\"},\"layout_provider\":{\"id\":\"1067\"},\"node_renderer\":{\"id\":\"1061\"},\"selection_policy\":{\"id\":\"1088\"}},\"id\":\"1058\",\"type\":\"GraphRenderer\"},{\"attributes\":{},\"id\":\"1090\",\"type\":\"UnionRenderers\"},{\"attributes\":{\"data\":{\"end\":[1,19,5,2,16,3,11,4,14,5,9,6,7,15,8,18,9,13,10,11,19,12,13,17,14,15,16,17,18,19],\"start\":[0,0,0,1,1,2,2,3,3,4,4,5,6,6,7,7,8,8,9,10,10,11,12,12,13,14,15,16,17,18]},\"selected\":{\"id\":\"1093\"},\"selection_policy\":{\"id\":\"1092\"}},\"id\":\"1064\",\"type\":\"ColumnDataSource\"},{\"attributes\":{\"source\":{\"id\":\"1060\"}},\"id\":\"1062\",\"type\":\"CDSView\"},{\"attributes\":{},\"id\":\"1079\",\"type\":\"Toolbar\"},{\"attributes\":{\"fill_color\":{\"value\":\"orange\"},\"size\":{\"value\":20}},\"id\":\"1059\",\"type\":\"Circle\"},{\"attributes\":{\"end\":2,\"start\":-2},\"id\":\"1054\",\"type\":\"Range1d\"},{\"attributes\":{\"source\":{\"id\":\"1064\"}},\"id\":\"1066\",\"type\":\"CDSView\"},{\"attributes\":{\"data\":{\"index\":[0,1,2,3,4,5,6,7,8,9,10,11,12,13,14,15,16,17,18,19]},\"selected\":{\"id\":\"1091\"},\"selection_policy\":{\"id\":\"1090\"}},\"id\":\"1060\",\"type\":\"ColumnDataSource\"},{\"attributes\":{\"coordinates\":null,\"group\":null},\"id\":\"1078\",\"type\":\"Title\"},{\"attributes\":{},\"id\":\"1088\",\"type\":\"NodesOnly\"},{\"attributes\":{\"line_dash\":{\"value\":[2,2]}},\"id\":\"1063\",\"type\":\"MultiLine\"},{\"attributes\":{},\"id\":\"1089\",\"type\":\"NodesOnly\"},{\"attributes\":{\"graph_layout\":{\"0\":[-0.37749972473769006,0.2112174061223131],\"1\":[0.24740690171154786,-0.936819399211991],\"10\":[0.5920802673612342,1.759882549375015],\"11\":[1.1812785910309058,0.7250709193966969],\"12\":[1.2231144838557204,-0.3785059230301818],\"13\":[-0.05173518993890002,-0.3742789519308455],\"14\":[-0.9338887404462896,-1.0826336853206684],\"15\":[-0.5340864395874391,-1.735213922552687],\"16\":[0.5859665290655481,-1.7938268080946111],\"17\":[1.475945746290374,-1.0735307735328008],\"18\":[1.2420990670060628,0.09471926615660224],\"19\":[0.6457668256255741,0.9806272638601594],\"2\":[0.3490300955446662,-0.07796314898323958],\"3\":[-1.0015436260962554,-0.00927728392801295],\"4\":[-1.432109192283386,1.0764715527068007],\"5\":[-1.5049232589319093,0.25275846557150855],\"6\":[-0.9163988814734539,-0.6120502890843561],\"7\":[0.08788233859413659,0.25024392922268],\"8\":[-0.32185455250686695,0.9231088332576171],\"9\":[-0.5565312400835776,1.8]}},\"id\":\"1067\",\"type\":\"StaticLayoutProvider\"},{\"attributes\":{},\"id\":\"1091\",\"type\":\"Selection\"},{\"attributes\":{},\"id\":\"1093\",\"type\":\"Selection\"},{\"attributes\":{},\"id\":\"1076\",\"type\":\"LinearScale\"},{\"attributes\":{\"coordinates\":null,\"data_source\":{\"id\":\"1064\"},\"glyph\":{\"id\":\"1063\"},\"group\":null,\"hover_glyph\":null,\"view\":{\"id\":\"1066\"}},\"id\":\"1065\",\"type\":\"GlyphRenderer\"},{\"attributes\":{},\"id\":\"1092\",\"type\":\"UnionRenderers\"}],\"root_ids\":[\"1055\"]},\"title\":\"Bokeh Application\",\"version\":\"2.4.3\"}};\n  const render_items = [{\"docid\":\"93922704-c3c3-4d33-aeae-90f5b3196ec7\",\"root_ids\":[\"1055\"],\"roots\":{\"1055\":\"7215afe4-b640-427e-a0a4-c3c67b446744\"}}];\n  root.Bokeh.embed.embed_items_notebook(docs_json, render_items);\n  }\n  if (root.Bokeh !== undefined) {\n    embed_document(root);\n  } else {\n    let attempts = 0;\n    const timer = setInterval(function(root) {\n      if (root.Bokeh !== undefined) {\n        clearInterval(timer);\n        embed_document(root);\n      } else {\n        attempts++;\n        if (attempts > 100) {\n          clearInterval(timer);\n          console.log(\"Bokeh: ERROR: Unable to run BokehJS code because BokehJS library is missing\");\n        }\n      }\n    }, 10, root)\n  }\n})(window);",
      "application/vnd.bokehjs_exec.v0+json": ""
     },
     "metadata": {
      "application/vnd.bokehjs_exec.v0+json": {
       "id": "1055"
      }
     },
     "output_type": "display_data"
    }
   ],
   "source": [
    "import networkx as nx\n",
    "from bokeh.models import Range1d, Plot\n",
    "from bokeh.plotting import from_networkx\n",
    "\n",
    "G = nx.desargues_graph()\n",
    "\n",
    "# We could use figure here but don't want all the axes and titles\n",
    "plot = Plot(x_range=Range1d(-2, 2), y_range=Range1d(-2, 2))\n",
    "\n",
    "# Create a Bokeh graph from the NetworkX input using nx.spring_layout\n",
    "graph = from_networkx(G, nx.spring_layout, scale=1.8, center=(0,0))\n",
    "plot.renderers.append(graph)\n",
    "\n",
    "# Set some of the default node glyph (Circle) properties\n",
    "graph.node_renderer.glyph.update(size=20, fill_color=\"orange\")\n",
    "\n",
    "# Set some edge properties too\n",
    "graph.edge_renderer.glyph.line_dash = [2,2]\n",
    "\n",
    "show(plot)"
   ]
  },
  {
   "cell_type": "code",
   "execution_count": 5,
   "metadata": {},
   "outputs": [
    {
     "data": {
      "text/html": [
       "\n",
       "  <div class=\"bk-root\" id=\"8d7259df-dfc6-4ce1-9cd3-ab26fc506687\" data-root-id=\"1206\"></div>\n"
      ]
     },
     "metadata": {},
     "output_type": "display_data"
    },
    {
     "data": {
      "application/javascript": "(function(root) {\n  function embed_document(root) {\n  const docs_json = {\"402eba3b-6669-49bb-ae3f-de2d2533a91a\":{\"defs\":[],\"roots\":{\"references\":[{\"attributes\":{\"renderers\":[{\"id\":\"1209\"}],\"title\":{\"id\":\"1251\"},\"toolbar\":{\"id\":\"1252\"},\"x_range\":{\"id\":\"1204\"},\"x_scale\":{\"id\":\"1249\"},\"y_range\":{\"id\":\"1205\"},\"y_scale\":{\"id\":\"1250\"}},\"id\":\"1206\",\"type\":\"Plot\"},{\"attributes\":{\"fill_color\":{\"value\":\"red\"},\"size\":{\"value\":30}},\"id\":\"1210\",\"type\":\"Circle\"},{\"attributes\":{},\"id\":\"1262\",\"type\":\"NodesOnly\"},{\"attributes\":{},\"id\":\"1261\",\"type\":\"NodesOnly\"},{\"attributes\":{\"data\":{\"end\":[1,2,3,4,5,6,7,8,10,11,12,13,17,19,21,31,2,3,7,13,17,19,21,30,3,7,8,9,13,27,28,32,7,12,13,6,10,6,10,16,16,30,32,33,33,33,32,33,32,33,32,33,33,32,33,32,33,25,27,29,32,33,25,27,31,31,29,33,33,31,33,32,33,32,33,32,33,33],\"start\":[0,0,0,0,0,0,0,0,0,0,0,0,0,0,0,0,1,1,1,1,1,1,1,1,2,2,2,2,2,2,2,2,3,3,3,4,4,5,5,5,6,8,8,8,9,13,14,14,15,15,18,18,19,20,20,22,22,23,23,23,23,23,24,24,24,25,26,26,27,28,28,29,29,30,30,31,31,32],\"weight\":[4,5,3,3,3,3,2,2,2,3,1,3,2,2,2,2,6,3,4,5,1,2,2,2,3,4,5,1,3,2,2,2,3,3,3,2,3,5,3,3,3,3,3,4,2,3,3,2,3,4,1,2,1,3,1,2,3,5,4,3,5,4,2,3,2,7,4,2,4,2,2,4,2,3,3,4,4,5]},\"selected\":{\"id\":\"1266\"},\"selection_policy\":{\"id\":\"1265\"}},\"id\":\"1215\",\"type\":\"ColumnDataSource\"},{\"attributes\":{},\"id\":\"1266\",\"type\":\"Selection\"},{\"attributes\":{\"coordinates\":null,\"data_source\":{\"id\":\"1211\"},\"glyph\":{\"id\":\"1210\"},\"group\":null,\"hover_glyph\":null,\"view\":{\"id\":\"1213\"}},\"id\":\"1212\",\"type\":\"GlyphRenderer\"},{\"attributes\":{\"data\":{\"club\":[\"Mr. Hi\",\"Mr. Hi\",\"Mr. Hi\",\"Mr. Hi\",\"Mr. Hi\",\"Mr. Hi\",\"Mr. Hi\",\"Mr. Hi\",\"Mr. Hi\",\"Officer\",\"Mr. Hi\",\"Mr. Hi\",\"Mr. Hi\",\"Mr. Hi\",\"Officer\",\"Officer\",\"Mr. Hi\",\"Mr. Hi\",\"Officer\",\"Mr. Hi\",\"Officer\",\"Mr. Hi\",\"Officer\",\"Officer\",\"Officer\",\"Officer\",\"Officer\",\"Officer\",\"Officer\",\"Officer\",\"Officer\",\"Officer\",\"Officer\",\"Officer\"],\"index\":[0,1,2,3,4,5,6,7,8,9,10,11,12,13,14,15,16,17,18,19,20,21,22,23,24,25,26,27,28,29,30,31,32,33]},\"selected\":{\"id\":\"1264\"},\"selection_policy\":{\"id\":\"1263\"}},\"id\":\"1211\",\"type\":\"ColumnDataSource\"},{\"attributes\":{\"coordinates\":null,\"edge_renderer\":{\"id\":\"1216\"},\"group\":null,\"inspection_policy\":{\"id\":\"1262\"},\"layout_provider\":{\"id\":\"1218\"},\"node_renderer\":{\"id\":\"1212\"},\"selection_policy\":{\"id\":\"1261\"}},\"id\":\"1209\",\"type\":\"GraphRenderer\"},{\"attributes\":{\"source\":{\"id\":\"1211\"}},\"id\":\"1213\",\"type\":\"CDSView\"},{\"attributes\":{},\"id\":\"1249\",\"type\":\"LinearScale\"},{\"attributes\":{\"line_alpha\":{\"value\":0.3},\"line_dash\":{\"value\":[6,2]}},\"id\":\"1214\",\"type\":\"MultiLine\"},{\"attributes\":{},\"id\":\"1252\",\"type\":\"Toolbar\"},{\"attributes\":{},\"id\":\"1250\",\"type\":\"LinearScale\"},{\"attributes\":{\"source\":{\"id\":\"1215\"}},\"id\":\"1217\",\"type\":\"CDSView\"},{\"attributes\":{},\"id\":\"1265\",\"type\":\"UnionRenderers\"},{\"attributes\":{\"end\":1.1,\"start\":-1.1},\"id\":\"1205\",\"type\":\"Range1d\"},{\"attributes\":{\"coordinates\":null,\"group\":null},\"id\":\"1251\",\"type\":\"Title\"},{\"attributes\":{\"end\":1.1,\"start\":-1.1},\"id\":\"1204\",\"type\":\"Range1d\"},{\"attributes\":{\"graph_layout\":{\"0\":[1.0,1.2564497938803791e-09],\"1\":[0.9829730987548828,0.1837495130944091],\"10\":[-0.2736629247665405,0.9618256700682479],\"11\":[-0.445738285779953,0.8951632989096481],\"12\":[-0.6026346683502197,0.7980172050642806],\"13\":[-0.7390088438987732,0.6736957443404037],\"14\":[-0.8502171039581299,0.526432157819255],\"15\":[-0.9324721693992615,0.3612417889284926],\"16\":[-0.9829730987548828,0.1837495279955703],\"17\":[-1.0,-8.616632677959548e-08],\"18\":[-0.9829730987548828,-0.1837494658780259],\"19\":[-0.9324722290039062,-0.3612417268109483],\"2\":[0.9324722290039062,0.3612416697192031],\"20\":[-0.8502171635627747,-0.5264320957017106],\"21\":[-0.739008903503418,-0.6736956226182145],\"22\":[-0.6026347279548645,-0.7980171429467362],\"23\":[-0.44573837518692017,-0.8951632963967484],\"24\":[-0.27366289496421814,-0.9618256675553483],\"25\":[-0.09226816147565842,-0.995734213526265],\"26\":[0.0922681912779808,-0.995734213526265],\"27\":[0.27366289496421814,-0.9618256675553483],\"28\":[0.44573837518692017,-0.8951632963967484],\"29\":[0.6026347279548645,-0.7980171429467362],\"3\":[0.8502171039581299,0.526432157819255],\"30\":[0.7390087246894836,-0.6736958014321488],\"31\":[0.8502170443534851,-0.5264322745156449],\"32\":[0.9324722290039062,-0.3612416970086259],\"33\":[0.9829730987548828,-0.18374943607570352],\"4\":[0.739008903503418,0.6736956251311141],\"5\":[0.6026346683502197,0.7980172050642806],\"6\":[0.4457383453845978,0.8951632989096481],\"7\":[0.2736629843711853,0.9618256700682479],\"8\":[0.09226837009191513,0.9957341564345199],\"9\":[-0.09226834028959274,0.9957341564345199]}},\"id\":\"1218\",\"type\":\"StaticLayoutProvider\"},{\"attributes\":{},\"id\":\"1263\",\"type\":\"UnionRenderers\"},{\"attributes\":{\"coordinates\":null,\"data_source\":{\"id\":\"1215\"},\"glyph\":{\"id\":\"1214\"},\"group\":null,\"hover_glyph\":null,\"view\":{\"id\":\"1217\"}},\"id\":\"1216\",\"type\":\"GlyphRenderer\"},{\"attributes\":{},\"id\":\"1264\",\"type\":\"Selection\"}],\"root_ids\":[\"1206\"]},\"title\":\"Bokeh Application\",\"version\":\"2.4.3\"}};\n  const render_items = [{\"docid\":\"402eba3b-6669-49bb-ae3f-de2d2533a91a\",\"root_ids\":[\"1206\"],\"roots\":{\"1206\":\"8d7259df-dfc6-4ce1-9cd3-ab26fc506687\"}}];\n  root.Bokeh.embed.embed_items_notebook(docs_json, render_items);\n  }\n  if (root.Bokeh !== undefined) {\n    embed_document(root);\n  } else {\n    let attempts = 0;\n    const timer = setInterval(function(root) {\n      if (root.Bokeh !== undefined) {\n        clearInterval(timer);\n        embed_document(root);\n      } else {\n        attempts++;\n        if (attempts > 100) {\n          clearInterval(timer);\n          console.log(\"Bokeh: ERROR: Unable to run BokehJS code because BokehJS library is missing\");\n        }\n      }\n    }, 10, root)\n  }\n})(window);",
      "application/vnd.bokehjs_exec.v0+json": ""
     },
     "metadata": {
      "application/vnd.bokehjs_exec.v0+json": {
       "id": "1206"
      }
     },
     "output_type": "display_data"
    }
   ],
   "source": [
    "# Exercise: try a different NetworkX layout, and set some properies on `graph.edge_renderer.glyph` \n",
    "# and graph.node_renderer.glyph\n",
    "\n",
    "import networkx as nx\n",
    "from bokeh.models import Range1d, Plot\n",
    "from bokeh.plotting import from_networkx\n",
    "\n",
    "\n",
    "G = nx.karate_club_graph()\n",
    "\n",
    "plot = Plot(x_range=Range1d(-1.1,1.1), y_range=Range1d(-1.1,1.1))\n",
    "\n",
    "graph = from_networkx(G, nx.circular_layout, scale=1, center=(0,0))\n",
    "\n",
    "plot.renderers.append(graph)\n",
    "\n",
    "graph.node_renderer.glyph.update(size=30, fill_color=\"red\")\n",
    "\n",
    "graph.edge_renderer.glyph.line_dash = [6,2] # primer argumento longitud de las lineas y segundo separacion entre ellas\n",
    "graph.edge_renderer.glyph.line_alpha = 0.3 # transparencia\n",
    "\n",
    "show(plot)\n"
   ]
  },
  {
   "cell_type": "markdown",
   "metadata": {},
   "source": [
    "## Adding Extra Data Columns.\n",
    "\n",
    "The `node_renderer` and `edge_renderer` properties of the graph renderer each have a `data_source` that is a standard `ColumnDataSource` that you can add new data to, e.g. to drive a hover tool, or to specify colors for the renderer. The example below demonstates both."
   ]
  },
  {
   "cell_type": "code",
   "execution_count": 6,
   "metadata": {},
   "outputs": [
    {
     "data": {
      "text/html": [
       "\n",
       "  <div class=\"bk-root\" id=\"15a43a91-edd1-49c7-b324-9523c1fcbc5a\" data-root-id=\"1379\"></div>\n"
      ]
     },
     "metadata": {},
     "output_type": "display_data"
    },
    {
     "data": {
      "application/javascript": "(function(root) {\n  function embed_document(root) {\n  const docs_json = {\"84e5b872-ed3b-4a57-91a3-a8a08413cf0e\":{\"defs\":[],\"roots\":{\"references\":[{\"attributes\":{\"renderers\":[{\"id\":\"1382\"}],\"title\":{\"id\":\"1444\"},\"toolbar\":{\"id\":\"1405\"},\"x_range\":{\"id\":\"1377\"},\"x_scale\":{\"id\":\"1442\"},\"y_range\":{\"id\":\"1378\"},\"y_scale\":{\"id\":\"1443\"}},\"id\":\"1379\",\"type\":\"Plot\"},{\"attributes\":{\"coordinates\":null,\"data_source\":{\"id\":\"1384\"},\"glyph\":{\"id\":\"1383\"},\"group\":null,\"hover_glyph\":null,\"view\":{\"id\":\"1386\"}},\"id\":\"1385\",\"type\":\"GlyphRenderer\"},{\"attributes\":{},\"id\":\"1457\",\"type\":\"Selection\"},{\"attributes\":{\"source\":{\"id\":\"1384\"}},\"id\":\"1386\",\"type\":\"CDSView\"},{\"attributes\":{\"data\":{\"colors\":[\"#1f77b4\",\"#aec7e8\",\"#ff7f0e\",\"#ffbb78\",\"#2ca02c\",\"#98df8a\",\"#d62728\",\"#ff9896\",\"#9467bd\",\"#c5b0d5\",\"#8c564b\",\"#c49c94\",\"#e377c2\",\"#f7b6d2\",\"#7f7f7f\",\"#c7c7c7\",\"#bcbd22\",\"#dbdb8d\",\"#17becf\",\"#9edae5\"],\"index\":[0,1,2,3,4,5,6,7,8,9,10,11,12,13,14,15,16,17,18,19]},\"selected\":{\"id\":\"1457\"},\"selection_policy\":{\"id\":\"1456\"}},\"id\":\"1384\",\"type\":\"ColumnDataSource\"},{\"attributes\":{},\"id\":\"1442\",\"type\":\"LinearScale\"},{\"attributes\":{},\"id\":\"1387\",\"type\":\"MultiLine\"},{\"attributes\":{},\"id\":\"1454\",\"type\":\"NodesOnly\"},{\"attributes\":{\"coordinates\":null,\"edge_renderer\":{\"id\":\"1389\"},\"group\":null,\"inspection_policy\":{\"id\":\"1455\"},\"layout_provider\":{\"id\":\"1391\"},\"node_renderer\":{\"id\":\"1385\"},\"selection_policy\":{\"id\":\"1454\"}},\"id\":\"1382\",\"type\":\"GraphRenderer\"},{\"attributes\":{\"coordinates\":null,\"group\":null},\"id\":\"1444\",\"type\":\"Title\"},{\"attributes\":{\"coordinates\":null,\"data_source\":{\"id\":\"1388\"},\"glyph\":{\"id\":\"1387\"},\"group\":null,\"hover_glyph\":null,\"view\":{\"id\":\"1390\"}},\"id\":\"1389\",\"type\":\"GlyphRenderer\"},{\"attributes\":{\"source\":{\"id\":\"1388\"}},\"id\":\"1390\",\"type\":\"CDSView\"},{\"attributes\":{},\"id\":\"1456\",\"type\":\"UnionRenderers\"},{\"attributes\":{},\"id\":\"1443\",\"type\":\"LinearScale\"},{\"attributes\":{\"data\":{\"end\":[1,19,5,2,16,3,11,4,14,5,9,6,7,15,8,18,9,13,10,11,19,12,13,17,14,15,16,17,18,19],\"start\":[0,0,0,1,1,2,2,3,3,4,4,5,6,6,7,7,8,8,9,10,10,11,12,12,13,14,15,16,17,18]},\"selected\":{\"id\":\"1459\"},\"selection_policy\":{\"id\":\"1458\"}},\"id\":\"1388\",\"type\":\"ColumnDataSource\"},{\"attributes\":{\"end\":2,\"start\":-2},\"id\":\"1378\",\"type\":\"Range1d\"},{\"attributes\":{\"fill_color\":{\"field\":\"colors\"},\"size\":{\"value\":20}},\"id\":\"1383\",\"type\":\"Circle\"},{\"attributes\":{\"tools\":[{\"id\":\"1404\"}]},\"id\":\"1405\",\"type\":\"Toolbar\"},{\"attributes\":{\"end\":2,\"start\":-2},\"id\":\"1377\",\"type\":\"Range1d\"},{\"attributes\":{},\"id\":\"1459\",\"type\":\"Selection\"},{\"attributes\":{\"graph_layout\":{\"0\":[0.24936191631749988,1.534821040107058],\"1\":[-0.04209808439169591,0.38630802337444264],\"10\":[0.4579475462167718,0.24598012412241615],\"11\":[0.1422345569087959,-0.9563068179001584],\"12\":[0.7623930837357177,-1.6347450439051916],\"13\":[-0.24474831500825842,-1.5257390535795514],\"14\":[-1.2113282318802687,-1.0752725733566435],\"15\":[-0.43887818827398034,-0.24275124719438237],\"16\":[0.6896344599578395,-0.44101749110054794],\"17\":[1.5613280285679034,-0.8688436987656596],\"18\":[1.793786901856101,0.2425969355465464],\"19\":[1.2219306737843134,1.0815444028400396],\"2\":[-0.8912369995900513,-0.46544392847202154],\"3\":[-1.8,-0.25091233608740565],\"4\":[-1.5661429221908987,0.8454750822366632],\"5\":[-0.7967596335130704,1.6279418458760855],\"6\":[-0.16294330384459915,0.9534925796086623],\"7\":[0.8859792716209312,0.48822821519806237],\"8\":[0.06117627248651315,-0.3787986358014056],\"9\":[-0.6716370327595701,0.4334425772529893]}},\"id\":\"1391\",\"type\":\"StaticLayoutProvider\"},{\"attributes\":{\"callback\":null,\"tooltips\":\"index: @index\"},\"id\":\"1404\",\"type\":\"HoverTool\"},{\"attributes\":{},\"id\":\"1455\",\"type\":\"NodesOnly\"},{\"attributes\":{},\"id\":\"1458\",\"type\":\"UnionRenderers\"}],\"root_ids\":[\"1379\"]},\"title\":\"Bokeh Application\",\"version\":\"2.4.3\"}};\n  const render_items = [{\"docid\":\"84e5b872-ed3b-4a57-91a3-a8a08413cf0e\",\"root_ids\":[\"1379\"],\"roots\":{\"1379\":\"15a43a91-edd1-49c7-b324-9523c1fcbc5a\"}}];\n  root.Bokeh.embed.embed_items_notebook(docs_json, render_items);\n  }\n  if (root.Bokeh !== undefined) {\n    embed_document(root);\n  } else {\n    let attempts = 0;\n    const timer = setInterval(function(root) {\n      if (root.Bokeh !== undefined) {\n        clearInterval(timer);\n        embed_document(root);\n      } else {\n        attempts++;\n        if (attempts > 100) {\n          clearInterval(timer);\n          console.log(\"Bokeh: ERROR: Unable to run BokehJS code because BokehJS library is missing\");\n        }\n      }\n    }, 10, root)\n  }\n})(window);",
      "application/vnd.bokehjs_exec.v0+json": ""
     },
     "metadata": {
      "application/vnd.bokehjs_exec.v0+json": {
       "id": "1379"
      }
     },
     "output_type": "display_data"
    }
   ],
   "source": [
    "from bokeh.models import HoverTool\n",
    "from bokeh.palettes import Category20_20\n",
    "\n",
    "G = nx.desargues_graph() # always 20 nodes\n",
    "\n",
    "# We could use figure here but don't want all the axes and titles\n",
    "plot = Plot(x_range=Range1d(-2, 2), y_range=Range1d(-2, 2))\n",
    "\n",
    "# Create a Bokeh graph from the NetworkX input using nx.spring_layout\n",
    "graph = from_networkx(G, nx.spring_layout, scale=1.8, center=(0,0))\n",
    "plot.renderers.append(graph)\n",
    "\n",
    "# Add some new columns to the node renderer data source\n",
    "graph.node_renderer.data_source.data['index'] = list(range(len(G)))\n",
    "graph.node_renderer.data_source.data['colors'] = Category20_20\n",
    "\n",
    "graph.node_renderer.glyph.update(size=20, fill_color=\"colors\")\n",
    "\n",
    "plot.add_tools(HoverTool(tooltips=\"index: @index\"))\n",
    "\n",
    "show(plot)"
   ]
  },
  {
   "cell_type": "code",
   "execution_count": 36,
   "metadata": {},
   "outputs": [
    {
     "data": {
      "text/html": [
       "\n",
       "  <div class=\"bk-root\" id=\"a2d4e868-6fe5-439e-bbcd-10b76f29f2fa\" data-root-id=\"16205\"></div>\n"
      ]
     },
     "metadata": {},
     "output_type": "display_data"
    },
    {
     "data": {
      "application/javascript": "(function(root) {\n  function embed_document(root) {\n  const docs_json = {\"a19c49ff-75ed-42b8-89d8-c5978e421690\":{\"defs\":[],\"roots\":{\"references\":[{\"attributes\":{\"height\":400,\"renderers\":[{\"id\":\"16215\"}],\"title\":{\"id\":\"16208\"},\"toolbar\":{\"id\":\"16212\"},\"width\":400,\"x_range\":{\"id\":\"16203\"},\"x_scale\":{\"id\":\"16787\"},\"y_range\":{\"id\":\"16204\"},\"y_scale\":{\"id\":\"16788\"}},\"id\":\"16205\",\"type\":\"Plot\"},{\"attributes\":{},\"id\":\"16799\",\"type\":\"NodesOnly\"},{\"attributes\":{},\"id\":\"16805\",\"type\":\"Selection\"},{\"attributes\":{\"graph_layout\":{\"0\":[-0.1620590089678605,0.3387526032090978],\"1\":[-0.1839539244846472,0.15828318390766222],\"10\":[-0.2846279672295806,0.7477111685676625],\"11\":[-0.43693989636830816,0.5843872787889742],\"12\":[-0.6155805302175683,0.29837380972843364],\"13\":[-0.15493699702591196,0.016728523534467354],\"14\":[0.4422184054269892,-0.4928178259556545],\"15\":[0.2807898632345905,-0.5213890932912302],\"16\":[-0.02764162398586986,1.0],\"17\":[0.04967378170681306,0.4983220773415503],\"18\":[-0.08021829124827975,-0.6585739515678872],\"19\":[-0.31288270073756436,-0.018774957944042485],\"2\":[-0.06375037014350379,0.04042715223243983],\"20\":[0.385709171446596,-0.6493080832128901],\"21\":[-0.42898037304919023,0.3868129973372201],\"22\":[0.18051359005256157,-0.6544095794561292],\"23\":[0.33551874462113196,-0.34460232912172],\"24\":[0.5761460536912618,-0.06575471267619583],\"25\":[0.46653564722690066,-0.1746297795935499],\"26\":[0.08664888440069902,-0.7455621372058374],\"27\":[0.3095562408768546,-0.1707593266903326],\"28\":[0.1960939209878386,0.02014084536548038],\"29\":[0.16462117276901847,-0.5542942363729757],\"3\":[-0.35320088849924053,0.19594475207542386],\"30\":[-0.045992875433447954,-0.22526681561974268],\"31\":[0.255563834090187,-0.08861275269057838],\"32\":[0.18424582520597507,-0.36175910349177914],\"33\":[0.10676003806436189,-0.3343182039992715],\"4\":[-0.19948669575961334,0.6315224547371978],\"5\":[-0.12837826579250122,0.7684761101776846],\"6\":[-0.04151864495695478,0.7297527381474219],\"7\":[-0.28264914673972136,0.14936666640325244],\"8\":[0.017050819093268884,-0.10330341704391859],\"9\":[-0.23484779225528518,-0.40086605562023364]}},\"id\":\"16224\",\"type\":\"StaticLayoutProvider\"},{\"attributes\":{\"coordinates\":null,\"data_source\":{\"id\":\"16217\"},\"glyph\":{\"id\":\"16225\"},\"group\":null,\"hover_glyph\":null,\"view\":{\"id\":\"16219\"}},\"id\":\"16218\",\"type\":\"GlyphRenderer\"},{\"attributes\":{\"fill_color\":{\"value\":\"#2b83ba\"},\"size\":{\"value\":15}},\"id\":\"16225\",\"type\":\"Circle\"},{\"attributes\":{},\"id\":\"16787\",\"type\":\"LinearScale\"},{\"attributes\":{},\"id\":\"16788\",\"type\":\"LinearScale\"},{\"attributes\":{\"end\":1.1,\"start\":-1.1},\"id\":\"16203\",\"type\":\"Range1d\"},{\"attributes\":{\"overlay\":{\"id\":\"16801\"}},\"id\":\"16210\",\"type\":\"BoxZoomTool\"},{\"attributes\":{},\"id\":\"16804\",\"type\":\"UnionRenderers\"},{\"attributes\":{\"coordinates\":null,\"group\":null,\"text\":\"Graph Interaction Demonstration\"},\"id\":\"16208\",\"type\":\"Title\"},{\"attributes\":{\"callback\":null,\"tooltips\":[[\"index\",\"@index\"],[\"club\",\"@club\"]]},\"id\":\"16209\",\"type\":\"HoverTool\"},{\"attributes\":{\"end\":1.1,\"start\":-1.1},\"id\":\"16204\",\"type\":\"Range1d\"},{\"attributes\":{\"line_alpha\":{\"value\":0.8},\"line_color\":{\"field\":\"edge_color\"}},\"id\":\"16230\",\"type\":\"MultiLine\"},{\"attributes\":{},\"id\":\"16802\",\"type\":\"UnionRenderers\"},{\"attributes\":{\"bottom_units\":\"screen\",\"coordinates\":null,\"fill_alpha\":0.5,\"fill_color\":\"lightgrey\",\"group\":null,\"left_units\":\"screen\",\"level\":\"overlay\",\"line_alpha\":1.0,\"line_color\":\"black\",\"line_dash\":[4,4],\"line_width\":2,\"right_units\":\"screen\",\"syncable\":false,\"top_units\":\"screen\"},\"id\":\"16801\",\"type\":\"BoxAnnotation\"},{\"attributes\":{},\"id\":\"16211\",\"type\":\"ResetTool\"},{\"attributes\":{\"coordinates\":null,\"data_source\":{\"id\":\"16221\"},\"glyph\":{\"id\":\"16230\"},\"group\":null,\"hover_glyph\":null,\"view\":{\"id\":\"16223\"}},\"id\":\"16222\",\"type\":\"GlyphRenderer\"},{\"attributes\":{\"data\":{\"edge_color\":[\"black\",\"black\",\"black\",\"black\",\"black\",\"black\",\"black\",\"black\",\"black\",\"black\",\"black\",\"black\",\"black\",\"black\",\"black\",\"red\",\"black\",\"black\",\"black\",\"black\",\"black\",\"black\",\"black\",\"red\",\"black\",\"black\",\"black\",\"red\",\"black\",\"red\",\"red\",\"red\",\"black\",\"black\",\"black\",\"black\",\"black\",\"black\",\"black\",\"black\",\"black\",\"red\",\"red\",\"red\",\"black\",\"red\",\"black\",\"black\",\"black\",\"black\",\"black\",\"black\",\"red\",\"black\",\"black\",\"black\",\"black\",\"black\",\"black\",\"black\",\"black\",\"black\",\"black\",\"black\",\"black\",\"black\",\"black\",\"black\",\"black\",\"black\",\"black\",\"black\",\"black\",\"black\",\"black\",\"black\",\"black\",\"black\"],\"end\":[1,2,3,4,5,6,7,8,10,11,12,13,17,19,21,31,2,3,7,13,17,19,21,30,3,7,8,9,13,27,28,32,7,12,13,6,10,6,10,16,16,30,32,33,33,33,32,33,32,33,32,33,33,32,33,32,33,25,27,29,32,33,25,27,31,31,29,33,33,31,33,32,33,32,33,32,33,33],\"start\":[0,0,0,0,0,0,0,0,0,0,0,0,0,0,0,0,1,1,1,1,1,1,1,1,2,2,2,2,2,2,2,2,3,3,3,4,4,5,5,5,6,8,8,8,9,13,14,14,15,15,18,18,19,20,20,22,22,23,23,23,23,23,24,24,24,25,26,26,27,28,28,29,29,30,30,31,31,32],\"weight\":[4,5,3,3,3,3,2,2,2,3,1,3,2,2,2,2,6,3,4,5,1,2,2,2,3,4,5,1,3,2,2,2,3,3,3,2,3,5,3,3,3,3,3,4,2,3,3,2,3,4,1,2,1,3,1,2,3,5,4,3,5,4,2,3,2,7,4,2,4,2,2,4,2,3,3,4,4,5]},\"selected\":{\"id\":\"16805\"},\"selection_policy\":{\"id\":\"16804\"}},\"id\":\"16221\",\"type\":\"ColumnDataSource\"},{\"attributes\":{\"source\":{\"id\":\"16221\"}},\"id\":\"16223\",\"type\":\"CDSView\"},{\"attributes\":{\"source\":{\"id\":\"16217\"}},\"id\":\"16219\",\"type\":\"CDSView\"},{\"attributes\":{\"tools\":[{\"id\":\"16209\"},{\"id\":\"16210\"},{\"id\":\"16211\"}]},\"id\":\"16212\",\"type\":\"Toolbar\"},{\"attributes\":{},\"id\":\"16803\",\"type\":\"Selection\"},{\"attributes\":{\"data\":{\"club\":[\"Mr. Hi\",\"Mr. Hi\",\"Mr. Hi\",\"Mr. Hi\",\"Mr. Hi\",\"Mr. Hi\",\"Mr. Hi\",\"Mr. Hi\",\"Mr. Hi\",\"Officer\",\"Mr. Hi\",\"Mr. Hi\",\"Mr. Hi\",\"Mr. Hi\",\"Officer\",\"Officer\",\"Mr. Hi\",\"Mr. Hi\",\"Officer\",\"Mr. Hi\",\"Officer\",\"Mr. Hi\",\"Officer\",\"Officer\",\"Officer\",\"Officer\",\"Officer\",\"Officer\",\"Officer\",\"Officer\",\"Officer\",\"Officer\",\"Officer\",\"Officer\"],\"index\":[0,1,2,3,4,5,6,7,8,9,10,11,12,13,14,15,16,17,18,19,20,21,22,23,24,25,26,27,28,29,30,31,32,33]},\"selected\":{\"id\":\"16803\"},\"selection_policy\":{\"id\":\"16802\"}},\"id\":\"16217\",\"type\":\"ColumnDataSource\"},{\"attributes\":{\"coordinates\":null,\"edge_renderer\":{\"id\":\"16222\"},\"group\":null,\"inspection_policy\":{\"id\":\"16800\"},\"layout_provider\":{\"id\":\"16224\"},\"node_renderer\":{\"id\":\"16218\"},\"selection_policy\":{\"id\":\"16799\"}},\"id\":\"16215\",\"type\":\"GraphRenderer\"},{\"attributes\":{},\"id\":\"16800\",\"type\":\"NodesOnly\"}],\"root_ids\":[\"16205\"]},\"title\":\"Bokeh Application\",\"version\":\"2.4.3\"}};\n  const render_items = [{\"docid\":\"a19c49ff-75ed-42b8-89d8-c5978e421690\",\"root_ids\":[\"16205\"],\"roots\":{\"16205\":\"a2d4e868-6fe5-439e-bbcd-10b76f29f2fa\"}}];\n  root.Bokeh.embed.embed_items_notebook(docs_json, render_items);\n  }\n  if (root.Bokeh !== undefined) {\n    embed_document(root);\n  } else {\n    let attempts = 0;\n    const timer = setInterval(function(root) {\n      if (root.Bokeh !== undefined) {\n        clearInterval(timer);\n        embed_document(root);\n      } else {\n        attempts++;\n        if (attempts > 100) {\n          clearInterval(timer);\n          console.log(\"Bokeh: ERROR: Unable to run BokehJS code because BokehJS library is missing\");\n        }\n      }\n    }, 10, root)\n  }\n})(window);",
      "application/vnd.bokehjs_exec.v0+json": ""
     },
     "metadata": {
      "application/vnd.bokehjs_exec.v0+json": {
       "id": "16205"
      }
     },
     "output_type": "display_data"
    }
   ],
   "source": [
    "# Exercise: Add your own columns for other node or edge properties e.g. fill_alpha or line_color,\n",
    "# or to show other fields in a tooltoip\n",
    "\n",
    "import networkx as nx\n",
    "\n",
    "from bokeh.io import output_file, show\n",
    "from bokeh.models import (BoxZoomTool, Circle, HoverTool,\n",
    "                          MultiLine, Plot, Range1d, ResetTool)\n",
    "from bokeh.palettes import Spectral4\n",
    "from bokeh.plotting import from_networkx\n",
    "\n",
    "\n",
    "G = nx.karate_club_graph()\n",
    "\n",
    "SAME_CLUB_COLOR, DIFFERENT_CLUB_COLOR = \"black\", \"red\"\n",
    "edge_attrs = {}\n",
    "\n",
    "for start_node, end_node, _ in G.edges(data=True):\n",
    "    edge_color = SAME_CLUB_COLOR if G.nodes[start_node][\"club\"] == G.nodes[end_node][\"club\"] else DIFFERENT_CLUB_COLOR\n",
    "    edge_attrs[(start_node, end_node)] = edge_color\n",
    "\n",
    "nx.set_edge_attributes(G, edge_attrs, \"edge_color\")\n",
    "\n",
    "\n",
    "plot = Plot(width=400, height=400,\n",
    "            x_range=Range1d(-1.1, 1.1), y_range=Range1d(-1.1, 1.1))\n",
    "plot.title.text = \"Graph Interaction Demonstration\"\n",
    "\n",
    "node_hover_tool = HoverTool(tooltips=[(\"index\", \"@index\"), (\"club\", \"@club\")])\n",
    "plot.add_tools(node_hover_tool, BoxZoomTool(), ResetTool())\n",
    "\n",
    "graph_renderer = from_networkx(G, nx.spring_layout, scale=1, center=(0, 0))\n",
    "\n",
    "graph_renderer.node_renderer.glyph = Circle(size=15, fill_color=Spectral4[0])\n",
    "graph_renderer.edge_renderer.glyph = MultiLine(line_color=\"edge_color\", line_alpha=0.8, line_width=1)\n",
    "plot.renderers.append(graph_renderer)\n",
    "\n",
    "show(plot)"
   ]
  },
  {
   "cell_type": "markdown",
   "metadata": {},
   "source": [
    "## Inspection and Selection Policies\n",
    "\n",
    "Bokeh graph renderers have `inspection_policy` and `selection_policy` properties. These can be used to control how hover inspections highlight the graph, or how selection tools make selections. These properties may be set to any of the inpection policies in `bokeh.graphs`. For instance, if a user hovers over a node, you may wish to highlight all the associated edges as well. This can be accomplished by setting the inspection policy:\n",
    "\n",
    "    graph.inspection_policy = NodesAndLinkedEdges()\n",
    "    \n",
    "as the example below demonstrates."
   ]
  },
  {
   "cell_type": "code",
   "execution_count": 37,
   "metadata": {},
   "outputs": [
    {
     "data": {
      "text/html": [
       "\n",
       "  <div class=\"bk-root\" id=\"3d26a1b7-a2b3-4233-857e-8f122e7a90c1\" data-root-id=\"17210\"></div>\n"
      ]
     },
     "metadata": {},
     "output_type": "display_data"
    },
    {
     "data": {
      "application/javascript": "(function(root) {\n  function embed_document(root) {\n  const docs_json = {\"2f63560c-ade8-4cd0-93ef-7fdcb8f66104\":{\"defs\":[],\"roots\":{\"references\":[{\"attributes\":{\"renderers\":[{\"id\":\"17213\"}],\"title\":{\"id\":\"17820\"},\"toolbar\":{\"id\":\"17246\"},\"x_range\":{\"id\":\"17208\"},\"x_scale\":{\"id\":\"17818\"},\"y_range\":{\"id\":\"17209\"},\"y_scale\":{\"id\":\"17819\"}},\"id\":\"17210\",\"type\":\"Plot\"},{\"attributes\":{\"line_alpha\":{\"value\":0.8},\"line_color\":{\"value\":\"#cccccc\"},\"line_width\":{\"value\":2}},\"id\":\"17228\",\"type\":\"MultiLine\"},{\"attributes\":{},\"id\":\"17819\",\"type\":\"LinearScale\"},{\"attributes\":{\"data\":{\"index\":[0,1,2,3,4,5,6,7,8,9,10,11,12,13,14]},\"selected\":{\"id\":\"17832\"},\"selection_policy\":{\"id\":\"17831\"}},\"id\":\"17215\",\"type\":\"ColumnDataSource\"},{\"attributes\":{},\"id\":\"17833\",\"type\":\"UnionRenderers\"},{\"attributes\":{},\"id\":\"17818\",\"type\":\"LinearScale\"},{\"attributes\":{\"line_color\":{\"value\":\"#abdda4\"},\"line_width\":{\"value\":4}},\"id\":\"17238\",\"type\":\"MultiLine\"},{\"attributes\":{},\"id\":\"17830\",\"type\":\"NodesOnly\"},{\"attributes\":{\"coordinates\":null,\"group\":null},\"id\":\"17820\",\"type\":\"Title\"},{\"attributes\":{\"source\":{\"id\":\"17215\"}},\"id\":\"17217\",\"type\":\"CDSView\"},{\"attributes\":{\"graph_layout\":{\"0\":[-0.8332180350460525,1.0648464856712885],\"1\":[0.18139604521951996,0.060293390131998886],\"10\":[-0.3786236302075074,0.21254736305413657],\"11\":[1.8,0.2590016975070653],\"12\":[0.18743238977752844,-0.5956862018634441],\"13\":[-1.3325117789538792,0.1697519698659196],\"14\":[-0.971681133177661,-0.31423997550516736],\"2\":[0.2852030850814834,1.0244257546017213],\"3\":[0.771634360832769,-0.2408151482442609],\"4\":[0.8055226539165171,1.3081128656015744],\"5\":[0.7426688092326478,-1.419564816217853],\"6\":[0.9460032772181061,0.749325220470113],\"7\":[-0.2704067966404728,-0.9746057906781882],\"8\":[-1.4686927486615637,-0.8592723869806416],\"9\":[-0.46472649859143195,-0.4441204274142633]}},\"id\":\"17222\",\"type\":\"StaticLayoutProvider\"},{\"attributes\":{\"tools\":[{\"id\":\"17245\"}]},\"id\":\"17246\",\"type\":\"Toolbar\"},{\"attributes\":{\"fill_color\":{\"value\":\"#2b83ba\"},\"size\":{\"value\":25}},\"id\":\"17223\",\"type\":\"Circle\"},{\"attributes\":{\"callback\":null,\"tooltips\":null},\"id\":\"17245\",\"type\":\"HoverTool\"},{\"attributes\":{\"fill_color\":{\"value\":\"#abdda4\"},\"size\":{\"value\":25}},\"id\":\"17233\",\"type\":\"Circle\"},{\"attributes\":{\"source\":{\"id\":\"17219\"}},\"id\":\"17221\",\"type\":\"CDSView\"},{\"attributes\":{},\"id\":\"17834\",\"type\":\"Selection\"},{\"attributes\":{\"data\":{\"end\":[13,10,2,14,7,3,4,12,3,4,6,11,9,12,5,6,7,11,10,10,12,8,14,13,12,13,14,13,14,12],\"start\":[0,0,0,1,1,1,1,1,2,2,2,3,3,3,3,4,5,6,6,7,7,7,8,8,9,9,9,10,10,10]},\"selected\":{\"id\":\"17834\"},\"selection_policy\":{\"id\":\"17833\"}},\"id\":\"17219\",\"type\":\"ColumnDataSource\"},{\"attributes\":{\"end\":2,\"start\":-2},\"id\":\"17209\",\"type\":\"Range1d\"},{\"attributes\":{\"coordinates\":null,\"edge_renderer\":{\"id\":\"17220\"},\"group\":null,\"inspection_policy\":{\"id\":\"17243\"},\"layout_provider\":{\"id\":\"17222\"},\"node_renderer\":{\"id\":\"17216\"},\"selection_policy\":{\"id\":\"17830\"}},\"id\":\"17213\",\"type\":\"GraphRenderer\"},{\"attributes\":{\"coordinates\":null,\"data_source\":{\"id\":\"17215\"},\"glyph\":{\"id\":\"17223\"},\"group\":null,\"hover_glyph\":{\"id\":\"17233\"},\"view\":{\"id\":\"17217\"}},\"id\":\"17216\",\"type\":\"GlyphRenderer\"},{\"attributes\":{\"end\":2,\"start\":-2},\"id\":\"17208\",\"type\":\"Range1d\"},{\"attributes\":{},\"id\":\"17832\",\"type\":\"Selection\"},{\"attributes\":{},\"id\":\"17243\",\"type\":\"NodesAndLinkedEdges\"},{\"attributes\":{\"coordinates\":null,\"data_source\":{\"id\":\"17219\"},\"glyph\":{\"id\":\"17228\"},\"group\":null,\"hover_glyph\":{\"id\":\"17238\"},\"view\":{\"id\":\"17221\"}},\"id\":\"17220\",\"type\":\"GlyphRenderer\"},{\"attributes\":{},\"id\":\"17831\",\"type\":\"UnionRenderers\"}],\"root_ids\":[\"17210\"]},\"title\":\"Bokeh Application\",\"version\":\"2.4.3\"}};\n  const render_items = [{\"docid\":\"2f63560c-ade8-4cd0-93ef-7fdcb8f66104\",\"root_ids\":[\"17210\"],\"roots\":{\"17210\":\"3d26a1b7-a2b3-4233-857e-8f122e7a90c1\"}}];\n  root.Bokeh.embed.embed_items_notebook(docs_json, render_items);\n  }\n  if (root.Bokeh !== undefined) {\n    embed_document(root);\n  } else {\n    let attempts = 0;\n    const timer = setInterval(function(root) {\n      if (root.Bokeh !== undefined) {\n        clearInterval(timer);\n        embed_document(root);\n      } else {\n        attempts++;\n        if (attempts > 100) {\n          clearInterval(timer);\n          console.log(\"Bokeh: ERROR: Unable to run BokehJS code because BokehJS library is missing\");\n        }\n      }\n    }, 10, root)\n  }\n})(window);",
      "application/vnd.bokehjs_exec.v0+json": ""
     },
     "metadata": {
      "application/vnd.bokehjs_exec.v0+json": {
       "id": "17210"
      }
     },
     "output_type": "display_data"
    }
   ],
   "source": [
    "from bokeh.models.graphs import NodesAndLinkedEdges\n",
    "from bokeh.models import Circle, HoverTool, MultiLine\n",
    "\n",
    "G = nx.gnm_random_graph(15, 30)\n",
    "\n",
    "# We could use figure here but don't want all the axes and titles\n",
    "plot = Plot(x_range=Range1d(-2, 2), y_range=Range1d(-2 ,2))\n",
    "\n",
    "# Create a Bokeh graph from the NetworkX input using nx.spring_layout\n",
    "graph = from_networkx(G, nx.spring_layout, scale=1.8, center=(0,0))\n",
    "plot.renderers.append(graph)\n",
    "\n",
    "# Blue circles for nodes, and light grey lines for edges\n",
    "graph.node_renderer.glyph = Circle(size=25, fill_color='#2b83ba')\n",
    "graph.edge_renderer.glyph = MultiLine(line_color=\"#cccccc\", line_alpha=0.8, line_width=2)\n",
    "\n",
    "# green hover for both nodes and edges\n",
    "graph.node_renderer.hover_glyph = Circle(size=25, fill_color='#abdda4')\n",
    "graph.edge_renderer.hover_glyph = MultiLine(line_color='#abdda4', line_width=4)\n",
    "\n",
    "# When we hover over nodes, highlight adjecent edges too\n",
    "graph.inspection_policy = NodesAndLinkedEdges()\n",
    "\n",
    "plot.add_tools(HoverTool(tooltips=None))\n",
    "\n",
    "show(plot)"
   ]
  },
  {
   "cell_type": "code",
   "execution_count": 38,
   "metadata": {},
   "outputs": [
    {
     "data": {
      "text/html": [
       "\n",
       "  <div class=\"bk-root\" id=\"c9828b1a-661a-4919-bf6b-76709bb22693\" data-root-id=\"18201\"></div>\n"
      ]
     },
     "metadata": {},
     "output_type": "display_data"
    },
    {
     "data": {
      "application/javascript": "(function(root) {\n  function embed_document(root) {\n  const docs_json = {\"009102a9-d94f-4f72-9898-dbf89efb3472\":{\"defs\":[],\"roots\":{\"references\":[{\"attributes\":{\"renderers\":[{\"id\":\"18204\"}],\"title\":{\"id\":\"18828\"},\"toolbar\":{\"id\":\"18237\"},\"x_range\":{\"id\":\"18199\"},\"x_scale\":{\"id\":\"18826\"},\"y_range\":{\"id\":\"18200\"},\"y_scale\":{\"id\":\"18827\"}},\"id\":\"18201\",\"type\":\"Plot\"},{\"attributes\":{\"coordinates\":null,\"group\":null},\"id\":\"18828\",\"type\":\"Title\"},{\"attributes\":{},\"id\":\"18838\",\"type\":\"NodesOnly\"},{\"attributes\":{\"coordinates\":null,\"data_source\":{\"id\":\"18206\"},\"glyph\":{\"id\":\"18214\"},\"group\":null,\"hover_glyph\":{\"id\":\"18224\"},\"view\":{\"id\":\"18208\"}},\"id\":\"18207\",\"type\":\"GlyphRenderer\"},{\"attributes\":{\"data\":{\"end\":[14,9,11,13,14,9,13,14,10,7,9,12,8,7,12,13,11,14,12,12,9,11,14,10,13,12,11,14,12,14],\"start\":[0,0,0,1,2,3,3,4,4,4,5,5,5,5,6,7,7,7,7,8,8,9,9,9,9,9,10,11,11,12]},\"selected\":{\"id\":\"18842\"},\"selection_policy\":{\"id\":\"18841\"}},\"id\":\"18210\",\"type\":\"ColumnDataSource\"},{\"attributes\":{\"fill_color\":{\"value\":\"#2b83ba\"},\"size\":{\"value\":25}},\"id\":\"18214\",\"type\":\"Circle\"},{\"attributes\":{\"graph_layout\":{\"0\":[0.41194316547225024,0.14388634595812463],\"1\":[1.8,0.5405018557358503],\"10\":[-0.7452734247040004,-0.2835053862138181],\"11\":[-0.19678058340712448,-0.12803872341399133],\"12\":[-0.5921007170336735,-0.026364351680595803],\"13\":[0.8875966210862957,0.45403425885248483],\"14\":[0.14470686305708597,-0.49432665396070147],\"2\":[0.6517584791049441,-1.3118726854058838],\"3\":[0.6125993564511781,0.9926651143713603],\"4\":[-0.3096350088893173,-0.8062693393923348],\"5\":[-0.4629744702801126,0.48761664244099673],\"6\":[-1.4783784741926427,-0.5185505667004366],\"7\":[0.1008696161627478,-0.08932948329867028],\"8\":[-0.7880315676137243,0.7020371484789378],\"9\":[-0.036299855213905705,0.3375158242286755]}},\"id\":\"18213\",\"type\":\"StaticLayoutProvider\"},{\"attributes\":{\"line_alpha\":{\"value\":0.8},\"line_color\":{\"value\":\"#cccccc\"},\"line_width\":{\"value\":2}},\"id\":\"18219\",\"type\":\"MultiLine\"},{\"attributes\":{},\"id\":\"18839\",\"type\":\"UnionRenderers\"},{\"attributes\":{},\"id\":\"18827\",\"type\":\"LinearScale\"},{\"attributes\":{},\"id\":\"18234\",\"type\":\"NodesOnly\"},{\"attributes\":{},\"id\":\"18841\",\"type\":\"UnionRenderers\"},{\"attributes\":{},\"id\":\"18842\",\"type\":\"Selection\"},{\"attributes\":{\"line_color\":{\"value\":\"#abdda4\"},\"line_width\":{\"value\":4}},\"id\":\"18229\",\"type\":\"MultiLine\"},{\"attributes\":{\"callback\":null,\"tooltips\":null},\"id\":\"18236\",\"type\":\"HoverTool\"},{\"attributes\":{\"source\":{\"id\":\"18206\"}},\"id\":\"18208\",\"type\":\"CDSView\"},{\"attributes\":{},\"id\":\"18840\",\"type\":\"Selection\"},{\"attributes\":{},\"id\":\"18826\",\"type\":\"LinearScale\"},{\"attributes\":{\"fill_color\":{\"value\":\"#abdda4\"},\"size\":{\"value\":25}},\"id\":\"18224\",\"type\":\"Circle\"},{\"attributes\":{\"end\":2,\"start\":-2},\"id\":\"18200\",\"type\":\"Range1d\"},{\"attributes\":{\"tools\":[{\"id\":\"18236\"}]},\"id\":\"18237\",\"type\":\"Toolbar\"},{\"attributes\":{\"coordinates\":null,\"edge_renderer\":{\"id\":\"18211\"},\"group\":null,\"inspection_policy\":{\"id\":\"18234\"},\"layout_provider\":{\"id\":\"18213\"},\"node_renderer\":{\"id\":\"18207\"},\"selection_policy\":{\"id\":\"18838\"}},\"id\":\"18204\",\"type\":\"GraphRenderer\"},{\"attributes\":{\"coordinates\":null,\"data_source\":{\"id\":\"18210\"},\"glyph\":{\"id\":\"18219\"},\"group\":null,\"hover_glyph\":{\"id\":\"18229\"},\"view\":{\"id\":\"18212\"}},\"id\":\"18211\",\"type\":\"GlyphRenderer\"},{\"attributes\":{\"end\":2,\"start\":-2},\"id\":\"18199\",\"type\":\"Range1d\"},{\"attributes\":{\"data\":{\"index\":[0,1,2,3,4,5,6,7,8,9,10,11,12,13,14]},\"selected\":{\"id\":\"18840\"},\"selection_policy\":{\"id\":\"18839\"}},\"id\":\"18206\",\"type\":\"ColumnDataSource\"},{\"attributes\":{\"source\":{\"id\":\"18210\"}},\"id\":\"18212\",\"type\":\"CDSView\"}],\"root_ids\":[\"18201\"]},\"title\":\"Bokeh Application\",\"version\":\"2.4.3\"}};\n  const render_items = [{\"docid\":\"009102a9-d94f-4f72-9898-dbf89efb3472\",\"root_ids\":[\"18201\"],\"roots\":{\"18201\":\"c9828b1a-661a-4919-bf6b-76709bb22693\"}}];\n  root.Bokeh.embed.embed_items_notebook(docs_json, render_items);\n  }\n  if (root.Bokeh !== undefined) {\n    embed_document(root);\n  } else {\n    let attempts = 0;\n    const timer = setInterval(function(root) {\n      if (root.Bokeh !== undefined) {\n        clearInterval(timer);\n        embed_document(root);\n      } else {\n        attempts++;\n        if (attempts > 100) {\n          clearInterval(timer);\n          console.log(\"Bokeh: ERROR: Unable to run BokehJS code because BokehJS library is missing\");\n        }\n      }\n    }, 10, root)\n  }\n})(window);",
      "application/vnd.bokehjs_exec.v0+json": ""
     },
     "metadata": {
      "application/vnd.bokehjs_exec.v0+json": {
       "id": "18201"
      }
     },
     "output_type": "display_data"
    }
   ],
   "source": [
    "# Exercise: try a different inspection (or selection) policy like NodesOnly or EdgesAndLinkedNodes\n",
    "from bokeh.models.graphs import NodesOnly\n",
    "from bokeh.models import Circle, HoverTool, MultiLine\n",
    "\n",
    "G = nx.gnm_random_graph(15, 30)\n",
    "\n",
    "\n",
    "plot = Plot(x_range=Range1d(-2, 2), y_range=Range1d(-2 ,2))\n",
    "\n",
    "\n",
    "graph = from_networkx(G, nx.spring_layout, scale=1.8, center=(0,0))\n",
    "plot.renderers.append(graph)\n",
    "\n",
    "\n",
    "graph.node_renderer.glyph = Circle(size=25, fill_color='#2b83ba')\n",
    "graph.edge_renderer.glyph = MultiLine(line_color=\"#cccccc\", line_alpha=0.8, line_width=2)\n",
    "\n",
    "\n",
    "graph.node_renderer.hover_glyph = Circle(size=25, fill_color='#abdda4')\n",
    "graph.edge_renderer.hover_glyph = MultiLine(line_color='#abdda4', line_width=4)\n",
    "\n",
    "\n",
    "graph.inspection_policy = NodesOnly()\n",
    "\n",
    "plot.add_tools(HoverTool(tooltips=None))\n",
    "\n",
    "show(plot)\n"
   ]
  },
  {
   "cell_type": "code",
   "execution_count": 39,
   "metadata": {},
   "outputs": [
    {
     "data": {
      "text/html": [
       "\n",
       "  <div class=\"bk-root\" id=\"21a2d469-b280-4471-b271-490b978e0ed0\" data-root-id=\"19209\"></div>\n"
      ]
     },
     "metadata": {},
     "output_type": "display_data"
    },
    {
     "data": {
      "application/javascript": "(function(root) {\n  function embed_document(root) {\n  const docs_json = {\"b3e4efa4-a012-4b80-8705-bc7aecf18edc\":{\"defs\":[],\"roots\":{\"references\":[{\"attributes\":{\"renderers\":[{\"id\":\"19212\"}],\"title\":{\"id\":\"19853\"},\"toolbar\":{\"id\":\"19245\"},\"x_range\":{\"id\":\"19207\"},\"x_scale\":{\"id\":\"19851\"},\"y_range\":{\"id\":\"19208\"},\"y_scale\":{\"id\":\"19852\"}},\"id\":\"19209\",\"type\":\"Plot\"},{\"attributes\":{\"coordinates\":null,\"edge_renderer\":{\"id\":\"19219\"},\"group\":null,\"inspection_policy\":{\"id\":\"19242\"},\"layout_provider\":{\"id\":\"19221\"},\"node_renderer\":{\"id\":\"19215\"},\"selection_policy\":{\"id\":\"19863\"}},\"id\":\"19212\",\"type\":\"GraphRenderer\"},{\"attributes\":{\"fill_color\":{\"value\":\"#2b83ba\"},\"size\":{\"value\":25}},\"id\":\"19222\",\"type\":\"Circle\"},{\"attributes\":{\"end\":2,\"start\":-2},\"id\":\"19208\",\"type\":\"Range1d\"},{\"attributes\":{\"end\":2,\"start\":-2},\"id\":\"19207\",\"type\":\"Range1d\"},{\"attributes\":{\"fill_color\":{\"value\":\"#abdda4\"},\"size\":{\"value\":25}},\"id\":\"19232\",\"type\":\"Circle\"},{\"attributes\":{\"callback\":null,\"tooltips\":null},\"id\":\"19244\",\"type\":\"HoverTool\"},{\"attributes\":{},\"id\":\"19867\",\"type\":\"Selection\"},{\"attributes\":{\"source\":{\"id\":\"19214\"}},\"id\":\"19216\",\"type\":\"CDSView\"},{\"attributes\":{\"tools\":[{\"id\":\"19244\"}]},\"id\":\"19245\",\"type\":\"Toolbar\"},{\"attributes\":{\"data\":{\"end\":[6,5,1,7,12,14,11,7,6,8,14,13,6,5,12,14,9,9,7,9,10,13,13,10,13,13,14,11,14,14],\"start\":[0,0,0,1,1,1,2,2,3,3,3,4,4,4,4,4,5,6,6,7,7,7,8,8,9,10,10,10,11,13]},\"selected\":{\"id\":\"19867\"},\"selection_policy\":{\"id\":\"19866\"}},\"id\":\"19218\",\"type\":\"ColumnDataSource\"},{\"attributes\":{},\"id\":\"19851\",\"type\":\"LinearScale\"},{\"attributes\":{},\"id\":\"19852\",\"type\":\"LinearScale\"},{\"attributes\":{\"source\":{\"id\":\"19218\"}},\"id\":\"19220\",\"type\":\"CDSView\"},{\"attributes\":{},\"id\":\"19863\",\"type\":\"NodesOnly\"},{\"attributes\":{\"coordinates\":null,\"data_source\":{\"id\":\"19218\"},\"glyph\":{\"id\":\"19227\"},\"group\":null,\"hover_glyph\":{\"id\":\"19237\"},\"view\":{\"id\":\"19220\"}},\"id\":\"19219\",\"type\":\"GlyphRenderer\"},{\"attributes\":{},\"id\":\"19864\",\"type\":\"UnionRenderers\"},{\"attributes\":{\"line_alpha\":{\"value\":0.8},\"line_color\":{\"value\":\"#cccccc\"},\"line_width\":{\"value\":2}},\"id\":\"19227\",\"type\":\"MultiLine\"},{\"attributes\":{\"line_color\":{\"value\":\"#abdda4\"},\"line_width\":{\"value\":4}},\"id\":\"19237\",\"type\":\"MultiLine\"},{\"attributes\":{},\"id\":\"19242\",\"type\":\"EdgesAndLinkedNodes\"},{\"attributes\":{\"data\":{\"index\":[0,1,2,3,4,5,6,7,8,9,10,11,12,13,14]},\"selected\":{\"id\":\"19865\"},\"selection_policy\":{\"id\":\"19864\"}},\"id\":\"19214\",\"type\":\"ColumnDataSource\"},{\"attributes\":{},\"id\":\"19866\",\"type\":\"UnionRenderers\"},{\"attributes\":{\"coordinates\":null,\"data_source\":{\"id\":\"19214\"},\"glyph\":{\"id\":\"19222\"},\"group\":null,\"hover_glyph\":{\"id\":\"19232\"},\"view\":{\"id\":\"19216\"}},\"id\":\"19215\",\"type\":\"GlyphRenderer\"},{\"attributes\":{\"graph_layout\":{\"0\":[-0.7268860989549091,1.260677975985596],\"1\":[0.16767614558197905,0.7217450355201661],\"10\":[0.5596013666269869,-0.9354759567427157],\"11\":[0.4336677366664852,-1.5393881917530687],\"12\":[0.25899860974918315,1.6914356462565587],\"13\":[0.0918081430749633,-0.2873456853575485],\"14\":[0.5166900465040692,-0.20325591647570382],\"2\":[-0.3761195512291334,-1.8000000000000003],\"3\":[1.007776648175748,0.233431422874818],\"4\":[-0.22891580194868758,0.7799348640850445],\"5\":[-1.305218904578301,0.8982029891255552],\"6\":[-0.311854044791773,0.3254620683821041],\"7\":[-0.3326299730642292,-0.5729803410744329],\"8\":[1.2277351856832879,-0.5483147184177587],\"9\":[-0.982329507495673,-0.02412919240861224]}},\"id\":\"19221\",\"type\":\"StaticLayoutProvider\"},{\"attributes\":{},\"id\":\"19865\",\"type\":\"Selection\"},{\"attributes\":{\"coordinates\":null,\"group\":null},\"id\":\"19853\",\"type\":\"Title\"}],\"root_ids\":[\"19209\"]},\"title\":\"Bokeh Application\",\"version\":\"2.4.3\"}};\n  const render_items = [{\"docid\":\"b3e4efa4-a012-4b80-8705-bc7aecf18edc\",\"root_ids\":[\"19209\"],\"roots\":{\"19209\":\"21a2d469-b280-4471-b271-490b978e0ed0\"}}];\n  root.Bokeh.embed.embed_items_notebook(docs_json, render_items);\n  }\n  if (root.Bokeh !== undefined) {\n    embed_document(root);\n  } else {\n    let attempts = 0;\n    const timer = setInterval(function(root) {\n      if (root.Bokeh !== undefined) {\n        clearInterval(timer);\n        embed_document(root);\n      } else {\n        attempts++;\n        if (attempts > 100) {\n          clearInterval(timer);\n          console.log(\"Bokeh: ERROR: Unable to run BokehJS code because BokehJS library is missing\");\n        }\n      }\n    }, 10, root)\n  }\n})(window);",
      "application/vnd.bokehjs_exec.v0+json": ""
     },
     "metadata": {
      "application/vnd.bokehjs_exec.v0+json": {
       "id": "19209"
      }
     },
     "output_type": "display_data"
    }
   ],
   "source": [
    "from bokeh.models.graphs import EdgesAndLinkedNodes\n",
    "from bokeh.models import Circle, HoverTool, MultiLine\n",
    "\n",
    "G = nx.gnm_random_graph(15, 30)\n",
    "\n",
    "\n",
    "plot = Plot(x_range=Range1d(-2, 2), y_range=Range1d(-2 ,2))\n",
    "\n",
    "\n",
    "graph = from_networkx(G, nx.spring_layout, scale=1.8, center=(0,0))\n",
    "plot.renderers.append(graph)\n",
    "\n",
    "\n",
    "graph.node_renderer.glyph = Circle(size=25, fill_color='#2b83ba')\n",
    "graph.edge_renderer.glyph = MultiLine(line_color=\"#cccccc\", line_alpha=0.8, line_width=2)\n",
    "\n",
    "\n",
    "graph.node_renderer.hover_glyph = Circle(size=25, fill_color='#abdda4')\n",
    "graph.edge_renderer.hover_glyph = MultiLine(line_color='#abdda4', line_width=4)\n",
    "\n",
    "\n",
    "graph.inspection_policy = EdgesAndLinkedNodes()\n",
    "\n",
    "plot.add_tools(HoverTool(tooltips=None))\n",
    "\n",
    "show(plot)\n"
   ]
  },
  {
   "cell_type": "markdown",
   "metadata": {},
   "source": [
    "# Next Section"
   ]
  },
  {
   "cell_type": "markdown",
   "metadata": {},
   "source": [
    "Click on this link to go to the next notebook: [09 - Geographic Plots](09%20-%20Geographic%20Plots.ipynb).\n",
    "\n",
    "To go back to the overview, click [here](00%20-%20Introduction%20and%20Setup.ipynb)."
   ]
  },
  {
   "cell_type": "code",
   "execution_count": null,
   "metadata": {},
   "outputs": [],
   "source": []
  }
 ],
 "metadata": {
  "kernelspec": {
   "display_name": "Python 3 (ipykernel)",
   "language": "python",
   "name": "python3"
  },
  "language_info": {
   "codemirror_mode": {
    "name": "ipython",
    "version": 3
   },
   "file_extension": ".py",
   "mimetype": "text/x-python",
   "name": "python",
   "nbconvert_exporter": "python",
   "pygments_lexer": "ipython3",
   "version": "3.9.12"
  }
 },
 "nbformat": 4,
 "nbformat_minor": 4
}
